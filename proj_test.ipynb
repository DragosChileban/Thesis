{
 "cells": [
  {
   "cell_type": "code",
   "execution_count": 1,
   "id": "2635fdb3",
   "metadata": {},
   "outputs": [],
   "source": [
    "import os\n",
    "import numpy as np\n",
    "import open3d as o3d\n",
    "import json\n",
    "import cv2\n",
    "from plyfile import PlyData\n",
    "import ply_utils"
   ]
  },
  {
   "cell_type": "code",
   "execution_count": 2,
   "id": "46c510cf",
   "metadata": {},
   "outputs": [],
   "source": [
    "root_path = '/Users/dragos/Licenta/data/audi'\n",
    "camera_path = os.path.join(root_path, 'cameras.json')\n",
    "ply_path = os.path.join(root_path, 'test.ply')\n",
    "new_ply_path = os.path.join(root_path, 'colored_output.ply')\n",
    "masks_path = os.path.join(root_path, 'masks')\n"
   ]
  },
  {
   "cell_type": "code",
   "execution_count": 3,
   "id": "4e42780d",
   "metadata": {},
   "outputs": [],
   "source": [
    "pcd = o3d.io.read_point_cloud(ply_path)\n",
    "points = np.asarray(pcd.points)\n",
    "colors = np.asarray(pcd.colors)\n",
    "\n",
    "ply = PlyData.read(ply_path)\n",
    "vertex = ply['vertex'].data\n",
    "rgb = np.stack([vertex['f_dc_0'], vertex['f_dc_1'], vertex['f_dc_2']], axis=-1)\n",
    "# rgb = np.clip(rgb, 0, 1)\n",
    "rgb = rgb.astype(np.float64)\n",
    "# print(rgb.shape, rgb.min(), rgb.max())\n",
    "# print(rgb)\n",
    "\n",
    "with open(camera_path, \"r\") as f:\n",
    "    cameras = json.load(f)"
   ]
  },
  {
   "cell_type": "code",
   "execution_count": 4,
   "id": "2b2269b8",
   "metadata": {},
   "outputs": [
    {
     "data": {
      "text/plain": [
       "[{'fx': 296.8810729980469,\n",
       "  'fy': 296.4210510253906,\n",
       "  'height': 639,\n",
       "  'id': 0,\n",
       "  'img_name': '0001.jpg',\n",
       "  'position': [-0.6026721000671387, -0.13839955627918243, 0.6677852869033813],\n",
       "  'rotation': [[-0.42500507831573486, -0.254541277885437, 0.8686653971672058],\n",
       "   [0.30829429626464844, 0.8615708947181702, 0.40329912304878235],\n",
       "   [-0.8510730862617493, 0.4392087161540985, -0.2876983880996704]],\n",
       "  'width': 359}]"
      ]
     },
     "execution_count": 4,
     "metadata": {},
     "output_type": "execute_result"
    }
   ],
   "source": [
    "filtered_cameras = [camera for camera in cameras if camera['id'] == 0]\n",
    "\n",
    "filtered_cameras"
   ]
  },
  {
   "cell_type": "code",
   "execution_count": 5,
   "id": "9c918258",
   "metadata": {},
   "outputs": [],
   "source": [
    "# new_colors, z = ply_utils.color_points_by_masks(cameras=filtered_cameras, masks_path=masks_path, points=points, colors=rgb)\n",
    "\n",
    "# print(new_colors.dtype)"
   ]
  },
  {
   "cell_type": "code",
   "execution_count": 6,
   "id": "af0d1308",
   "metadata": {},
   "outputs": [
    {
     "name": "stdout",
     "output_type": "stream",
     "text": [
      "/Users/dragos/Licenta/data/audi/masks/0001.png\n",
      "90\n"
     ]
    }
   ],
   "source": [
    "new_colors, z = ply_utils.color_points_by_masks_cl(points=points, colors=rgb, cameras=filtered_cameras, mask_dir=masks_path)\n",
    "\n",
    "# print(new_colors.shape)"
   ]
  },
  {
   "cell_type": "code",
   "execution_count": 7,
   "id": "e3e7de9c",
   "metadata": {},
   "outputs": [
    {
     "name": "stdout",
     "output_type": "stream",
     "text": [
      "[0.29  0.293 0.295 0.3   0.301 0.302 0.302 0.303 0.303 0.303 0.303 0.304\n",
      " 0.304 0.304 0.305 0.305 0.306 0.306 0.307 0.308 0.308 0.309 0.309 0.309\n",
      " 0.31  0.31  0.31  0.311 0.312 0.312 0.313 0.313 0.314 0.314 0.315 0.316\n",
      " 0.318 0.318 0.319 0.319 0.319 0.32  0.32  0.321 0.322 0.322 0.323 0.323\n",
      " 0.325 0.326 0.327 0.327 0.328 0.328 0.328 0.328 0.328 0.329 0.329 0.33\n",
      " 0.331 0.331 0.333 0.333 0.335 0.336 0.341 0.341 0.341 0.343 0.344 0.344\n",
      " 0.345 0.346 0.346 0.346 0.347 0.347 0.348 0.349 0.351 0.351 0.352 0.353\n",
      " 0.354 0.356 0.356 0.358 0.37  0.376]\n"
     ]
    }
   ],
   "source": [
    "sortedz = np.sort(z)\n",
    "#only values > 0\n",
    "# posz = sortedz[sortedz > 0]\n",
    "#only keep first 3 decimanls\n",
    "newposz = np.round(sortedz, 3)\n",
    "# print(sortedz)\n",
    "print(newposz[:100])"
   ]
  },
  {
   "cell_type": "code",
   "execution_count": 9,
   "id": "b4d3f03a",
   "metadata": {},
   "outputs": [],
   "source": [
    "ply_utils.save_ply(vertex, new_colors, new_ply_path)"
   ]
  }
 ],
 "metadata": {
  "kernelspec": {
   "display_name": "licenta",
   "language": "python",
   "name": "python3"
  },
  "language_info": {
   "codemirror_mode": {
    "name": "ipython",
    "version": 3
   },
   "file_extension": ".py",
   "mimetype": "text/x-python",
   "name": "python",
   "nbconvert_exporter": "python",
   "pygments_lexer": "ipython3",
   "version": "3.9.21"
  }
 },
 "nbformat": 4,
 "nbformat_minor": 5
}
